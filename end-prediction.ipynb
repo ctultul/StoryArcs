{
 "cells": [
  {
   "cell_type": "code",
   "execution_count": 1,
   "metadata": {
    "collapsed": false
   },
   "outputs": [],
   "source": [
    "from __future__ import division\n",
    "\n",
    "import pandas as pd\n",
    "import numpy as np\n",
    "import csv\n",
    "from scipy.stats import chi2_contingency\n",
    "import matplotlib.pyplot as plt\n",
    "\n",
    "import pandas as pd\n",
    "import numpy as np\n",
    "from nltk.stem import WordNetLemmatizer\n",
    "from textblob import TextBlob\n",
    "import matplotlib.pyplot as plt\n",
    "from scipy.interpolate import spline\n",
    "import os\n",
    "import csv\n",
    "from collections import OrderedDict\n",
    "from sklearn.cluster import KMeans\n",
    "from sklearn import preprocessing\n",
    "from scipy.stats import ttest_ind\n",
    "from sklearn.cross_validation import train_test_split\n",
    "\n",
    "%matplotlib inline"
   ]
  },
  {
   "cell_type": "code",
   "execution_count": 2,
   "metadata": {
    "collapsed": true
   },
   "outputs": [],
   "source": [
    "def text_clean(filename):\n",
    "    '''\n",
    "    Input: File path of script.\n",
    "    Output: List of all words in script lowercased, lemmatized, without punctuation.\n",
    "    '''\n",
    "    wnl = WordNetLemmatizer()\n",
    "    word_list = [word.decode(\"utf8\", errors='ignore') for line in open(filename, 'r') for word in line.split()]\n",
    "    lemma_list = [wnl.lemmatize(word.lower()) for word in word_list]\n",
    "    return lemma_list"
   ]
  },
  {
   "cell_type": "code",
   "execution_count": 3,
   "metadata": {
    "collapsed": true
   },
   "outputs": [],
   "source": [
    "def windows(text_list, size=100):\n",
    "    '''\n",
    "    Input:\n",
    "    text_list = List of cleaned words\n",
    "    size = size of window\n",
    "\n",
    "    Output:\n",
    "    Text as list of windows of size=size.\n",
    "    '''\n",
    "\n",
    "    windows = []\n",
    "    for i in xrange(0,len(text_list)-size,size):\n",
    "        window = text_list[i:i+size]\n",
    "        window = \" \".join(window)\n",
    "        windows.append(window)\n",
    "\n",
    "    return windows"
   ]
  },
  {
   "cell_type": "code",
   "execution_count": 4,
   "metadata": {
    "collapsed": true
   },
   "outputs": [],
   "source": [
    "def quick_n_dirty_polarity(text):\n",
    "    '''\n",
    "    Input: Text to get sentiment.\n",
    "    Output: List of sentiment scores.\n",
    "    '''\n",
    "    blob = TextBlob(text)\n",
    "    sentiments = []\n",
    "    for sentence in blob.sentences:\n",
    "        sentiments.append(sentence.sentiment.polarity)\n",
    "    return sentiments"
   ]
  },
  {
   "cell_type": "code",
   "execution_count": 5,
   "metadata": {
    "collapsed": true
   },
   "outputs": [],
   "source": [
    "def dirty_windows(window_list):\n",
    "    '''\n",
    "    Get polarity score for each window in a list.\n",
    "    '''\n",
    "    window_sents = []\n",
    "    for window in window_list:\n",
    "        sent_list = quick_n_dirty_polarity(window)\n",
    "        window_sents.append(np.mean(sent_list))\n",
    "    return window_sents"
   ]
  },
  {
   "cell_type": "code",
   "execution_count": 6,
   "metadata": {
    "collapsed": true
   },
   "outputs": [],
   "source": [
    "def get_script_filepaths():\n",
    "    '''\n",
    "    Get list of filepaths to each script to input into cleaning function.\n",
    "    '''\n",
    "    scripts = os.listdir('scripts')\n",
    "    paths = []\n",
    "    for script in scripts:\n",
    "        new_path = 'scripts/{}'.format(script)\n",
    "        paths.append(new_path)\n",
    "    return paths"
   ]
  },
  {
   "cell_type": "code",
   "execution_count": null,
   "metadata": {
    "collapsed": false
   },
   "outputs": [],
   "source": []
  },
  {
   "cell_type": "code",
   "execution_count": 20,
   "metadata": {
    "collapsed": true
   },
   "outputs": [],
   "source": [
    "def make_array(paths, number_movies, window_divisor):\n",
    "    '''\n",
    "    Inputs: paths = list of filepaths to movie scripts\n",
    "    number_movies = how many you want to do this time (keep low for testing so it doesn't take forever!)\n",
    "    window_divisor = We will divide the length of the movie by this to get a proportionally sized window for each movie.  Works best under about 10.\n",
    "    '''\n",
    "\n",
    "    movie_list = paths[0:number_movies]\n",
    "\n",
    "    movie_names = []\n",
    "    list_movie_meanwindowsent = []\n",
    "    for movie in movie_list:\n",
    "        clean_movie = text_clean(movie)\n",
    "        if len(clean_movie) > 200:\n",
    "            movie_windows = windows(clean_movie, int(len(clean_movie)/window_divisor + 1))\n",
    "            window_polarity = dirty_windows(movie_windows)\n",
    "            if len(window_polarity) == window_divisor-1:\n",
    "                list_movie_meanwindowsent.append(window_polarity)\n",
    "                movie_names.append(movie)\n",
    "\n",
    "    #Make it just the name of the movie instead of the whole filepath\n",
    "    for i,value in enumerate(movie_names):\n",
    "        movie_names[i] = value.replace(value, value[8:-4])\n",
    "\n",
    "    X = np.array(list_movie_meanwindowsent)\n",
    "    movie_names = np.array(movie_names)\n",
    "\n",
    "    return X, movie_names"
   ]
  },
  {
   "cell_type": "code",
   "execution_count": 21,
   "metadata": {
    "collapsed": true
   },
   "outputs": [],
   "source": [
    "def deltas(X):\n",
    "    '''\n",
    "    Input: Array of sentiment levels (each row is a movie, each column is a window).\n",
    "    Output: Array that is one column less that is the difference between each window.\n",
    "    '''\n",
    "    diff_array = []\n",
    "    for row in X:\n",
    "        diff_array.append(np.diff(row))\n",
    "\n",
    "    diff_array = np.array(diff_array)\n",
    "    diff_array = preprocessing.scale(diff_array)\n",
    "    return diff_array"
   ]
  },
  {
   "cell_type": "code",
   "execution_count": 33,
   "metadata": {
    "collapsed": true
   },
   "outputs": [],
   "source": [
    "def cluster_predictions(n_clusters, random_state, diff_array, omit_ending=False):\n",
    "    '''\n",
    "    Input: Number of clusters, random state of model, array of deltas, and\n",
    "    boolean on whether to omit the last sentiment window when fitting the model\n",
    "    for future prediction of ending.\n",
    "    Output: vector of predicted clusters, array with data and cluster.\n",
    "    '''\n",
    "\n",
    "    if omit_ending == False:\n",
    "        model = KMeans(n_clusters=n_clusters, n_jobs=-2, random_state=random_state)\n",
    "        predictions = model.fit_predict(diff_array)\n",
    "        #\n",
    "        # #Add the predicted clusters as the last column of the data frame.\n",
    "        X_and_pred = np.column_stack((diff_array, predictions))\n",
    "        print \"the shape of diff array plus cluster number is:\"\n",
    "        print X_and_pred.shape\n",
    "\n",
    "        return predictions, X_and_pred\n",
    "    \n",
    "    elif omit_ending==True:\n",
    "        \n",
    "        #Save ending column as ending\n",
    "        ending = diff_array[:,-1:]\n",
    "        \n",
    "        #Remove last column for ending\n",
    "        diff_array = diff_array[:,:-1]\n",
    "        \n",
    "        model = KMeans(n_clusters=n_clusters, n_jobs=-2, random_state=random_state)\n",
    "        predictions = model.fit_predict(diff_array)\n",
    "        #\n",
    "        # #Add the predicted clusters as the last column of the data frame.\n",
    "        X_and_pred = np.column_stack((diff_array, predictions))\n",
    "        print \"the shape of diff array plus cluster number is:\"\n",
    "        print X_and_pred.shape\n",
    "\n",
    "        return predictions, X_and_pred, ending\n",
    "        "
   ]
  },
  {
   "cell_type": "code",
   "execution_count": 23,
   "metadata": {
    "collapsed": true
   },
   "outputs": [],
   "source": [
    "def reg_title(title):\n",
    "    if title.split()[0] == 'The':\n",
    "        rest = '-'.join(title.split()[1:])\n",
    "        title = ''.join([rest, ',-The'])\n",
    "    else:\n",
    "        title = title.replace(\" \", \"-\")\n",
    "    return title"
   ]
  },
  {
   "cell_type": "code",
   "execution_count": 24,
   "metadata": {
    "collapsed": true
   },
   "outputs": [],
   "source": [
    "def add_features(X_and_pred, movie_names):\n",
    "    '''\n",
    "    Ignore this weird function.  Am doing it a different way now, will update soon.\n",
    "    '''\n",
    "    cols = []\n",
    "    for i,column in enumerate(X_and_pred.T):\n",
    "        col_name = 'window_{}'.format(i)\n",
    "        cols.append(col_name)\n",
    "\n",
    "    cols[-1] = cols[-1].replace(cols[-1], 'predicted_cluster')\n",
    "\n",
    "    df = pd.DataFrame(X_and_pred, columns=cols)\n",
    "    df['title'] = movie_names\n",
    "\n",
    "    gross = pd.read_csv('movie_gross.csv')\n",
    "    genre = pd.read_csv('movie_genre.csv')\n",
    "    year = pd.read_csv('movie_year.csv')\n",
    "\n",
    "    df = df.merge(gross,on='title').merge(genre,on='title').merge(year,on='title')\n",
    "\n",
    "    return df"
   ]
  },
  {
   "cell_type": "code",
   "execution_count": 25,
   "metadata": {
    "collapsed": true
   },
   "outputs": [],
   "source": [
    "def oh_no_test(df, n_clusters):\n",
    "    clusters = []\n",
    "    for i in range(n_clusters):\n",
    "        print \"cluster {}\".format(i)\n",
    "        print df[df['predicted_cluster']==float(i)].shape\n",
    "        cluster = df[df['predicted_cluster']==float(i)]\n",
    "        print \"movies\"\n",
    "        print cluster['title'].head(3)"
   ]
  },
  {
   "cell_type": "code",
   "execution_count": 26,
   "metadata": {
    "collapsed": true
   },
   "outputs": [],
   "source": [
    "def make_splits(X, index):\n",
    "    #Split dataframe based on what topic\n",
    "    return X[X[:,-1] == float(index), :]"
   ]
  },
  {
   "cell_type": "code",
   "execution_count": 27,
   "metadata": {
    "collapsed": true
   },
   "outputs": [],
   "source": [
    "def cluster_plot(X_and_pred, predictions, limit=5):\n",
    "\n",
    "    output = {}\n",
    "\n",
    "    for prediction in np.unique(predictions):\n",
    "        title = \"group_{}\".format(prediction)\n",
    "        output[title] = make_splits(X_and_pred, prediction)[:,:-1]\n",
    "\n",
    "    for group in output.keys():\n",
    "        print len(output[group])\n",
    "\n",
    "\n",
    "    #Take mean for each cluster at each window\n",
    "    means_array = []\n",
    "    for group in output.keys():\n",
    "        if len(output[group]) >= limit:\n",
    "            mean_group = np.mean(output[group], axis=0)\n",
    "            means_array.append(mean_group)\n",
    "\n",
    "    #Turn it back into an array\n",
    "    means_array = np.array(means_array)\n",
    "\n",
    "    #Not sure when I transposed this, but better transpose it back:\n",
    "    means_array = means_array.T\n",
    "\n",
    "    #Scale or else everything will be bad\n",
    "    means_array = preprocessing.scale(means_array)\n",
    "\n",
    "    # #SHOW THE MOVIE MAGIC!\n",
    "    plt.plot(means_array)\n",
    "    plt.show()\n"
   ]
  },
  {
   "cell_type": "code",
   "execution_count": 40,
   "metadata": {
    "collapsed": true
   },
   "outputs": [],
   "source": [
    "def happy_or_sad(x):\n",
    "    '''\n",
    "    This function is to apply to the vector of ending sentiments to classify as happy ending or not.\n",
    "    Input: Any float\n",
    "    Output: 1 if number is positive, 0 if negative.\n",
    "    '''\n",
    "    if x >= 0:\n",
    "        return 1\n",
    "    elif x < 0:\n",
    "        return 0"
   ]
  },
  {
   "cell_type": "code",
   "execution_count": 56,
   "metadata": {
    "collapsed": true
   },
   "outputs": [],
   "source": [
    "paths = get_script_filepaths()"
   ]
  },
  {
   "cell_type": "code",
   "execution_count": 57,
   "metadata": {
    "collapsed": false
   },
   "outputs": [],
   "source": [
    "window_divisor = 6\n",
    "n_clusters = 4 #3 clusters and 6 clusters are bad, haven't tried 5\n",
    "rs = 456\n",
    "subset = len(paths) #for all movies\n",
    "#subset = 20"
   ]
  },
  {
   "cell_type": "code",
   "execution_count": 355,
   "metadata": {
    "collapsed": false
   },
   "outputs": [],
   "source": [
    "#Start running here\n",
    "sent_array, movie_names = make_array(paths, subset, window_divisor=window_divisor)"
   ]
  },
  {
   "cell_type": "code",
   "execution_count": 360,
   "metadata": {
    "collapsed": false
   },
   "outputs": [
    {
     "data": {
      "text/plain": [
       "(1034, 5)"
      ]
     },
     "execution_count": 360,
     "metadata": {},
     "output_type": "execute_result"
    }
   ],
   "source": [
    "#Sent ending is the straight sentiment score for the last window.\n",
    "sent_ending = sent_array[:, -1:]"
   ]
  },
  {
   "cell_type": "code",
   "execution_count": null,
   "metadata": {
    "collapsed": true
   },
   "outputs": [],
   "source": [
    "diff_array = deltas(sent_array)"
   ]
  },
  {
   "cell_type": "code",
   "execution_count": 60,
   "metadata": {
    "collapsed": false
   },
   "outputs": [
    {
     "name": "stdout",
     "output_type": "stream",
     "text": [
      "the shape of diff array plus cluster number is:\n",
      "(1034, 4)\n"
     ]
    }
   ],
   "source": [
    "#Ending is the delta score for the last window.\n",
    "predictions, X_and_pred, ending = cluster_predictions(n_clusters=n_clusters, random_state=rs, diff_array=diff_array, omit_ending=True)"
   ]
  },
  {
   "cell_type": "code",
   "execution_count": 430,
   "metadata": {
    "collapsed": false
   },
   "outputs": [],
   "source": [
    "#This will be the target prediction, whether movie is happy or not.\n",
    "sent_happy = []\n",
    "\n",
    "#Change sent_ending back to ending if you want to test on deltas instead of raw sentiment\n",
    "\n",
    "for movie in sent_ending:\n",
    "    sent_happy.append(happy_or_sad(movie))\n",
    "\n",
    "#This will be the target prediction, whether movie is happy or not.\n",
    "delta_happy = []\n",
    "\n",
    "#Change sent_ending back to ending if you want to test on deltas instead of raw sentiment\n",
    "\n",
    "for movie in ending:\n",
    "    delta_happy.append(happy_or_sad(movie))\n",
    "\n"
   ]
  },
  {
   "cell_type": "code",
   "execution_count": 439,
   "metadata": {
    "collapsed": false
   },
   "outputs": [
    {
     "name": "stdout",
     "output_type": "stream",
     "text": [
      "[0, 1, 0, 1, 0, 0, 0, 1, 0, 0]\n",
      "[1, 1, 0, 1, 0, 0, 1, 1, 0, 0]\n"
     ]
    }
   ],
   "source": [
    "print delta_happy[0:10]\n",
    "print sent_happy[0:10]"
   ]
  },
  {
   "cell_type": "code",
   "execution_count": 363,
   "metadata": {
    "collapsed": false
   },
   "outputs": [
    {
     "name": "stdout",
     "output_type": "stream",
     "text": [
      "(1034, 4)\n"
     ]
    }
   ],
   "source": [
    "print X_and_pred.shape"
   ]
  },
  {
   "cell_type": "code",
   "execution_count": 441,
   "metadata": {
    "collapsed": true
   },
   "outputs": [],
   "source": [
    "#Continue running here\n",
    "df = add_features(X_and_pred, movie_names)\n",
    "df['delta_target'] = delta_happy\n",
    "df['sent_target'] = sent_happy\n",
    "df.to_csv('data131.csv',index=False)"
   ]
  },
  {
   "cell_type": "code",
   "execution_count": 64,
   "metadata": {
    "collapsed": false
   },
   "outputs": [
    {
     "name": "stdout",
     "output_type": "stream",
     "text": [
      "cluster 0\n",
      "(214, 9)\n",
      "movies\n",
      "1     12-and-Holding\n",
      "6         15-Minutes\n",
      "10              2012\n",
      "Name: title, dtype: object\n",
      "cluster 1\n",
      "(237, 9)\n",
      "movies\n",
      "9     2001-A-Space-Odyssey\n",
      "16      500-Days-of-Summer\n",
      "23              Abyss,-The\n",
      "Name: title, dtype: object\n",
      "cluster 2\n",
      "(247, 9)\n",
      "movies\n",
      "7           17-Again\n",
      "15             50-50\n",
      "19    A-Few-Good-Men\n",
      "Name: title, dtype: object\n",
      "cluster 3\n",
      "(336, 9)\n",
      "movies\n",
      "0    10-Things-I-Hate-About-You\n",
      "2                    12-Monkeys\n",
      "3              12-Years-a-Slave\n",
      "Name: title, dtype: object\n",
      "None\n"
     ]
    }
   ],
   "source": [
    "print oh_no_test(df, n_clusters)"
   ]
  },
  {
   "cell_type": "code",
   "execution_count": 65,
   "metadata": {
    "collapsed": false
   },
   "outputs": [
    {
     "name": "stdout",
     "output_type": "stream",
     "text": [
      "336\n",
      "247\n",
      "237\n",
      "214\n"
     ]
    },
    {
     "data": {
      "image/png": "[encoded data removed]",
      "text/plain": [
       "<matplotlib.figure.Figure at 0x103b79390>"
      ]
     },
     "metadata": {},
     "output_type": "display_data"
    }
   ],
   "source": [
    "cluster_plot(X_and_pred, predictions, limit=5)"
   ]
  },
  {
   "cell_type": "markdown",
   "metadata": {},
   "source": [
    "## FROM test_clusters FILE"
   ]
  },
  {
   "cell_type": "code",
   "execution_count": 66,
   "metadata": {
    "collapsed": true
   },
   "outputs": [],
   "source": [
    "def make_dummies(df):\n",
    "    '''\n",
    "    Input: dataframe\n",
    "    Output: Same dataframe, but with dummy variables indicating which cluster each row belongs to.\n",
    "    '''\n",
    "    cluster_dummies = pd.get_dummies(df['predicted_cluster']).rename(columns = lambda x: 'cluster_'+str(x))\n",
    "    df = pd.concat([df, cluster_dummies], axis=1)\n",
    "    return df\n",
    "\n",
    "def dollars_to_floats(x):\n",
    "    '''\n",
    "    Input: A dollar amount string (e.g. $4,000,000)\n",
    "    Output: As a float (e.g. 4000000.0)\n",
    "    '''\n",
    "    if x:\n",
    "        if str(x)[0] == '$':\n",
    "            x = x[1:] #remove dollar sign\n",
    "            x = ''.join(x.split(','))\n",
    "            x = float(x)\n",
    "\n",
    "        else:\n",
    "            pass\n",
    "\n",
    "        return x\n",
    "\n",
    "def genre_dummies(df):\n",
    "    '''\n",
    "    Input: Dataframe.\n",
    "    Output: Same dataframe, but with dummy variables for each genre.  Movies can belong to more than one genre.\n",
    "    '''\n",
    "    big_genre_list = []\n",
    "    #First, get the unique genres.\n",
    "    for entry in df['genre']: #Each \"entry\" is a list of genres.\n",
    "        if entry:\n",
    "            entry = ''.join(c for c in str(entry) if c not in \"[]''u,\").split(' ')\n",
    "            for g in entry: #Iterate through that list.\n",
    "                big_genre_list.append(g)\n",
    "\n",
    "    genres = set(big_genre_list) #Gets each unique genre.\n",
    "\n",
    "    #Create variable in df for each genre.\n",
    "    for genre1 in genres:\n",
    "        df[genre1] = 0\n",
    "\n",
    "    #Now add flag for each movie in each genre.\n",
    "    for genre1 in genres:\n",
    "        for i, entry in enumerate(df['genre']):\n",
    "            entry = ''.join(c for c in str(entry) if c not in \"[]''u,\").split(' ')\n",
    "            if genre1 in entry:\n",
    "                df[genre1][i] = 1\n",
    "            else:\n",
    "                pass\n",
    "    return genres, df"
   ]
  },
  {
   "cell_type": "code",
   "execution_count": 442,
   "metadata": {
    "collapsed": false
   },
   "outputs": [
    {
     "name": "stderr",
     "output_type": "stream",
     "text": [
      "/Users/demetriamcaleer/anaconda/lib/python2.7/site-packages/ipykernel/__main__.py:50: SettingWithCopyWarning: \n",
      "A value is trying to be set on a copy of a slice from a DataFrame\n",
      "\n",
      "See the caveats in the documentation: http://pandas.pydata.org/pandas-docs/stable/indexing.html#indexing-view-versus-copy\n"
     ]
    }
   ],
   "source": [
    "#Begin running here\n",
    "df = pd.read_csv('data131.csv')\n",
    "df['gross'] = df['gross'].apply(dollars_to_floats)\n",
    "num_clusters = len(df['predicted_cluster'].unique())\n",
    "genres, df_with_genre = genre_dummies(df)"
   ]
  },
  {
   "cell_type": "code",
   "execution_count": 478,
   "metadata": {
    "collapsed": false
   },
   "outputs": [
    {
     "name": "stdout",
     "output_type": "stream",
     "text": [
      "(1034, 34)\n",
      "(810, 34)\n"
     ]
    },
    {
     "data": {
      "text/plain": [
       "Index([u'window_0', u'window_1', u'window_2', u'predicted_cluster', u'gross',\n",
       "       u'year', u'delta_target', u'sent_target', u'Sci-Fi', u'Crime',\n",
       "       u'Romance', u'Animation', u'Msic', u'Comedy', u'War', u'Horror', u'nan',\n",
       "       u'Film-Noir', u'Msical', u'Reality-TV', u'Thriller', u'Western',\n",
       "       u'Mystery', u'Short', u'Talk-Show', u'Drama', u'Action', u'History',\n",
       "       u'Family', u'Adventre', u'Docmentary', u'Fantasy', u'Sport',\n",
       "       u'Biography'],\n",
       "      dtype='object')"
      ]
     },
     "execution_count": 478,
     "metadata": {},
     "output_type": "execute_result"
    }
   ],
   "source": [
    "df_with_genre = df_with_genre.set_index(df_with_genre['title'])\n",
    "df_with_genre = df_with_genre.drop(['title', 'genre'], 1)\n",
    "print df_with_genre.shape\n",
    "new_df_with_genre = df_with_genre.dropna(axis=0, how='any')\n",
    "print new_df_with_genre.shape\n",
    "new_df_with_genre.columns"
   ]
  },
  {
   "cell_type": "code",
   "execution_count": 492,
   "metadata": {
    "collapsed": false
   },
   "outputs": [
    {
     "name": "stdout",
     "output_type": "stream",
     "text": [
      "title\n",
      "10-Things-I-Hate-About-You    0\n",
      "12-and-Holding                1\n",
      "12-Years-a-Slave              1\n",
      "127-Hours                     0\n",
      "1492-Conquest-of-Paradise     0\n",
      "Name: delta_target, dtype: int64\n",
      "title\n",
      "10-Things-I-Hate-About-You    1\n",
      "12-and-Holding                1\n",
      "12-Years-a-Slave              1\n",
      "127-Hours                     0\n",
      "1492-Conquest-of-Paradise     0\n",
      "Name: sent_target, dtype: int64\n"
     ]
    }
   ],
   "source": [
    "print new_df_with_genre['delta_target'].head()\n",
    "print new_df_with_genre['sent_target'].head()"
   ]
  },
  {
   "cell_type": "code",
   "execution_count": 693,
   "metadata": {
    "collapsed": false
   },
   "outputs": [],
   "source": [
    "\n",
    "X = new_df_with_genre[[u'predicted_cluster', u'gross',\n",
    "       u'year', u'Sci-Fi',\n",
    "       u'Romance', u'Comedy', u'Horror', u'Thriller', u'Drama', u'Action',\n",
    "       u'Family', u'Adventre']]"
   ]
  },
  {
   "cell_type": "markdown",
   "metadata": {},
   "source": [
    "## Fit models"
   ]
  },
  {
   "cell_type": "code",
   "execution_count": 694,
   "metadata": {
    "collapsed": false
   },
   "outputs": [
    {
     "name": "stdout",
     "output_type": "stream",
     "text": [
      "(542, 12) (268, 12) (542, 1) (268, 1)\n"
     ]
    }
   ],
   "source": [
    "#Make train-test-split out of paths and define sentiment of final window as target\n",
    "\n",
    "\n",
    "\n",
    "#X = new_df.drop(['target'], axis=1)\n",
    "y = new_df.ix[:, df.columns == 'delta_target']\n",
    "\n",
    "\n",
    "X_train, X_test, y_train, y_test = train_test_split(X, y, test_size=0.33, random_state=456)\n",
    "print X_train.shape, X_test.shape, y_train.shape, y_test.shape"
   ]
  },
  {
   "cell_type": "code",
   "execution_count": 695,
   "metadata": {
    "collapsed": false
   },
   "outputs": [],
   "source": [
    "y_train = np.ravel(y_train)\n",
    "y_test = np.ravel(y_test)"
   ]
  },
  {
   "cell_type": "code",
   "execution_count": null,
   "metadata": {
    "collapsed": false
   },
   "outputs": [],
   "source": []
  },
  {
   "cell_type": "markdown",
   "metadata": {},
   "source": [
    "### Random forest"
   ]
  },
  {
   "cell_type": "code",
   "execution_count": 696,
   "metadata": {
    "collapsed": false
   },
   "outputs": [
    {
     "data": {
      "text/plain": [
       "RandomForestClassifier(bootstrap=True, class_weight='balanced',\n",
       "            criterion='gini', max_depth=None, max_features='auto',\n",
       "            max_leaf_nodes=None, min_samples_leaf=1, min_samples_split=2,\n",
       "            min_weight_fraction_leaf=0.0, n_estimators=100, n_jobs=1,\n",
       "            oob_score=False, random_state=456, verbose=0, warm_start=False)"
      ]
     },
     "execution_count": 696,
     "metadata": {},
     "output_type": "execute_result"
    }
   ],
   "source": [
    "#2. Fit a random forest model on the train data trying to predict.\n",
    "#Use box office, genre, year, and cluster.\n",
    "from sklearn.ensemble import RandomForestClassifier\n",
    "rf_model = RandomForestClassifier(n_estimators=100, bootstrap=True, oob_score=False, n_jobs=1, random_state=456, class_weight='balanced')\n",
    "rf_model.fit(X_train, y_train)"
   ]
  },
  {
   "cell_type": "code",
   "execution_count": 697,
   "metadata": {
    "collapsed": false
   },
   "outputs": [
    {
     "data": {
      "text/plain": [
       "0.59701492537313428"
      ]
     },
     "execution_count": 697,
     "metadata": {},
     "output_type": "execute_result"
    }
   ],
   "source": [
    "#3. Test the RF model on the test data, see how it does.\n",
    "rf_model.score(X_test, y_test)"
   ]
  },
  {
   "cell_type": "code",
   "execution_count": 698,
   "metadata": {
    "collapsed": false
   },
   "outputs": [],
   "source": [
    "y_pred = rf_model.predict(X_test)"
   ]
  },
  {
   "cell_type": "code",
   "execution_count": 699,
   "metadata": {
    "collapsed": false
   },
   "outputs": [],
   "source": [
    "from sklearn.metrics import accuracy_score, f1_score, precision_score, recall_score"
   ]
  },
  {
   "cell_type": "code",
   "execution_count": 700,
   "metadata": {
    "collapsed": false
   },
   "outputs": [
    {
     "name": "stdout",
     "output_type": "stream",
     "text": [
      "accuracy\n",
      "0.597014925373\n",
      "f1\n",
      "0.64\n",
      "precision\n",
      "0.644295302013\n",
      "recall\n",
      "0.635761589404\n"
     ]
    }
   ],
   "source": [
    "print \"accuracy\"\n",
    "print accuracy_score(y_test, y_pred)\n",
    "print \"f1\"\n",
    "print f1_score(y_test, y_pred)\n",
    "print \"precision\"\n",
    "print precision_score(y_test, y_pred)\n",
    "print \"recall\"\n",
    "print recall_score(y_test, y_pred)"
   ]
  },
  {
   "cell_type": "code",
   "execution_count": 701,
   "metadata": {
    "collapsed": false
   },
   "outputs": [
    {
     "data": {
      "text/plain": [
       "array([ 0.12129166,  0.34363516,  0.26735388,  0.0260841 ,  0.03458145,\n",
       "        0.03585091,  0.02069194,  0.03467137,  0.03781716,  0.03187182,\n",
       "        0.01673242,  0.02941813])"
      ]
     },
     "execution_count": 701,
     "metadata": {},
     "output_type": "execute_result"
    }
   ],
   "source": [
    "rf_model.feature_importances_"
   ]
  },
  {
   "cell_type": "code",
   "execution_count": 702,
   "metadata": {
    "collapsed": false
   },
   "outputs": [
    {
     "data": {
      "text/plain": [
       "0.53580246913580243"
      ]
     },
     "execution_count": 702,
     "metadata": {},
     "output_type": "execute_result"
    }
   ],
   "source": [
    "sum(np.ravel(y))/len(np.ravel(y))"
   ]
  },
  {
   "cell_type": "code",
   "execution_count": 703,
   "metadata": {
    "collapsed": false
   },
   "outputs": [],
   "source": [
    "from sklearn.ensemble import GradientBoostingClassifier"
   ]
  },
  {
   "cell_type": "code",
   "execution_count": 704,
   "metadata": {
    "collapsed": false
   },
   "outputs": [
    {
     "data": {
      "text/plain": [
       "GradientBoostingClassifier(init=None, learning_rate=0.1, loss='deviance',\n",
       "              max_depth=3, max_features=None, max_leaf_nodes=None,\n",
       "              min_samples_leaf=1, min_samples_split=2,\n",
       "              min_weight_fraction_leaf=0.0, n_estimators=100,\n",
       "              presort='auto', random_state=456, subsample=1.0, verbose=0,\n",
       "              warm_start=False)"
      ]
     },
     "execution_count": 704,
     "metadata": {},
     "output_type": "execute_result"
    }
   ],
   "source": [
    "gb_model = GradientBoostingClassifier(init=None, learning_rate=0.1, loss='deviance',\n",
    "              max_depth=3, max_features=None, max_leaf_nodes=None,\n",
    "              min_samples_leaf=1, min_samples_split=2,\n",
    "              min_weight_fraction_leaf=0.0, n_estimators=100,\n",
    "              presort='auto', random_state=456, subsample=1.0, verbose=0,\n",
    "              warm_start=False)\n",
    "gb_model.fit(X_train, y_train)"
   ]
  },
  {
   "cell_type": "code",
   "execution_count": 705,
   "metadata": {
    "collapsed": true
   },
   "outputs": [],
   "source": [
    "y_pred_gb = gb_model.predict(X_test)"
   ]
  },
  {
   "cell_type": "code",
   "execution_count": 706,
   "metadata": {
    "collapsed": false
   },
   "outputs": [
    {
     "name": "stdout",
     "output_type": "stream",
     "text": [
      "accuracy\n",
      "0.597014925373\n",
      "f1\n",
      "0.637583892617\n",
      "precision\n",
      "0.646258503401\n",
      "recall\n",
      "0.629139072848\n"
     ]
    }
   ],
   "source": [
    "print \"accuracy\"\n",
    "print accuracy_score(y_test, y_pred_gb)\n",
    "print \"f1\"\n",
    "print f1_score(y_test, y_pred_gb)\n",
    "print \"precision\"\n",
    "print precision_score(y_test, y_pred_gb)\n",
    "print \"recall\"\n",
    "print recall_score(y_test, y_pred_gb)"
   ]
  },
  {
   "cell_type": "code",
   "execution_count": 707,
   "metadata": {
    "collapsed": false
   },
   "outputs": [],
   "source": [
    "from sklearn.naive_bayes import GaussianNB\n",
    "nb_model = GaussianNB()\n",
    "nb_model.fit(X_train, y_train)\n",
    "y_pred_nb = nb_model.predict(X_test)"
   ]
  },
  {
   "cell_type": "code",
   "execution_count": 708,
   "metadata": {
    "collapsed": false
   },
   "outputs": [
    {
     "name": "stdout",
     "output_type": "stream",
     "text": [
      "accuracy\n",
      "0.529850746269\n",
      "f1\n",
      "0.685\n",
      "precision\n",
      "0.550200803213\n",
      "recall\n",
      "0.907284768212\n"
     ]
    }
   ],
   "source": [
    "print \"accuracy\"\n",
    "print accuracy_score(y_test, y_pred_nb)\n",
    "print \"f1\"\n",
    "print f1_score(y_test, y_pred_nb)\n",
    "print \"precision\"\n",
    "print precision_score(y_test, y_pred_nb)\n",
    "print \"recall\"\n",
    "print recall_score(y_test, y_pred_nb)"
   ]
  },
  {
   "cell_type": "code",
   "execution_count": null,
   "metadata": {
    "collapsed": true
   },
   "outputs": [],
   "source": []
  },
  {
   "cell_type": "code",
   "execution_count": null,
   "metadata": {
    "collapsed": true
   },
   "outputs": [],
   "source": []
  },
  {
   "cell_type": "code",
   "execution_count": null,
   "metadata": {
    "collapsed": true
   },
   "outputs": [],
   "source": []
  }
 ],
 "metadata": {
  "anaconda-cloud": {},
  "kernelspec": {
   "display_name": "Python [Root]",
   "language": "python",
   "name": "Python [Root]"
  },
  "language_info": {
   "codemirror_mode": {
    "name": "ipython",
    "version": 2
   },
   "file_extension": ".py",
   "mimetype": "text/x-python",
   "name": "python",
   "nbconvert_exporter": "python",
   "pygments_lexer": "ipython2",
   "version": "2.7.12"
  }
 },
 "nbformat": 4,
 "nbformat_minor": 0
}
